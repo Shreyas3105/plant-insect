{
 "cells": [
  {
   "cell_type": "code",
   "execution_count": 48,
   "id": "00bef26f",
   "metadata": {},
   "outputs": [],
   "source": [
    "import pandas as pd\n",
    "import numpy as np\n",
    "import warnings\n",
    "warnings.filterwarnings('ignore')"
   ]
  },
  {
   "cell_type": "code",
   "execution_count": 49,
   "id": "737cb573",
   "metadata": {},
   "outputs": [],
   "source": [
    "bee_plant = pd.read_csv('Created_Data_Source/Bee_Plant_Unrestrained_New.csv', low_memory = False, index_col=False)\n",
    "beetle_plant = pd.read_csv('Created_Data_Source/Beetle_Plant_Unrestrained.csv', low_memory = False, index_col=False)\n",
    "fly_plant = pd.read_csv('Created_Data_Source/Fly_Plant_Unrestrained.csv', low_memory = False, index_col=False)\n",
    "wasp_plant = pd.read_csv('Created_Data_Source/Wasp_Plant_Unrestrained.csv', low_memory = False, index_col=False)\n",
    "moth_plant = pd.read_csv('Created_Data_Source/Moth_Plant_Unrestrained.csv', low_memory = False, index_col=False)\n",
    "butterfly_plant = pd.read_csv('Created_Data_Source/Butterfly_Plant_Unrestrained.csv', low_memory = False, index_col=False)"
   ]
  },
  {
   "cell_type": "code",
   "execution_count": 3,
   "id": "bdb85858",
   "metadata": {},
   "outputs": [],
   "source": [
    "season_map = {\n",
    "    \"Spring\": 1,\n",
    "    \"Summer\": 2,\n",
    "    \"Autumn\": 3,\n",
    "    \"Winter\": 4,\n",
    "}\n",
    "\n",
    "def convert_season(season_str):\n",
    "    seasons = season_str.split('-')\n",
    "    cyclical = []\n",
    "    for season in seasons:\n",
    "        cyclical.append(season_map[season.strip()])\n",
    "        \n",
    "    return cyclical"
   ]
  },
  {
   "cell_type": "code",
   "execution_count": 52,
   "id": "949ba265",
   "metadata": {},
   "outputs": [
    {
     "data": {
      "text/plain": [
       "{'Herbivory', 'Parasitism', 'Pollination', nan}"
      ]
     },
     "execution_count": 52,
     "metadata": {},
     "output_type": "execute_result"
    }
   ],
   "source": [
    "set(butterfly_plant[\"Interaction_Type\"])"
   ]
  },
  {
   "cell_type": "code",
   "execution_count": 55,
   "id": "199408f0",
   "metadata": {},
   "outputs": [],
   "source": [
    "butterfly_anta = butterfly_plant.query(\"Interaction_Type == 'Herbivory' or Interaction_Type == 'Parasitism'\")\n",
    "butterfly_anta = butterfly_anta.query(\"Expansion_Type != 'UE_Genus'\")\n",
    "butterfly_anta.to_csv(\"New_Interaction_Files/butterfly_plant/antagonistic.csv\")"
   ]
  },
  {
   "cell_type": "code",
   "execution_count": null,
   "id": "9e510308",
   "metadata": {},
   "outputs": [],
   "source": [
    "df = pd.read_csv(\"Raẇ_Data_Source/Pollination_Plants_Traits.csv\")\n",
    "df = df.dropna()\n",
    "df[\"Flower_Color\"] = df[\"Flower_Color\"].str.split(', ')\n",
    "df[\"Flower_Season\"] = df[\"Flower_Season\"].apply(convert_season)\n",
    "df"
   ]
  },
  {
   "cell_type": "code",
   "execution_count": 5,
   "id": "3d5ced2c",
   "metadata": {},
   "outputs": [],
   "source": [
    "colors_dict = {\n",
    "    \"beetle\": ['green', 'white', 'yellow'],\n",
    "    \"bee\": [\"blue\", 'purple', 'yellow', 'white', 'violet', 'pink', 'red', 'orange'],\n",
    "    \"fly\": ['white', 'yellow', 'green', 'brown'],\n",
    "    \"wasp\": ['yellow', 'white', 'blue', 'purple', 'red'],\n",
    "    \"butterfly\": [\"blue\", 'purple', 'yellow', 'white', 'violet', 'pink', 'red', 'orange'],\n",
    "    \"moth\": ['white', 'yellow', 'green', 'pink', 'purple']\n",
    "}\n",
    "\n",
    "seasons_dict = {\n",
    "    \"beetle\": [1,2,3],\n",
    "    \"bee\": [1, 2],\n",
    "    \"fly\": [1, 2,3],\n",
    "    \"wasp\": [2,3],\n",
    "    \"butterfly\": [1, 2, 3],\n",
    "    \"moth\": [1, 2, 3]\n",
    "}"
   ]
  },
  {
   "cell_type": "markdown",
   "id": "dccff2f2",
   "metadata": {},
   "source": [
    "## Initializing Constants and The Working DataFrame\n",
    "___\n",
    "\n",
    "> Just enter the group that we are working with"
   ]
  },
  {
   "cell_type": "code",
   "execution_count": null,
   "id": "78c9c955",
   "metadata": {},
   "outputs": [],
   "source": [
    "while True:\n",
    "    group = input(\"Enter the name of the group you are interested in: \")\n",
    "    group = group.lower()\n",
    "    working_df_name = f\"{group.lower()}_plant\"\n",
    "    # Check if the dynamically generated dataframe name exists\n",
    "    if working_df_name in locals():\n",
    "        working_df = locals()[working_df_name]\n",
    "        break\n",
    "    else:\n",
    "        print(\"Dataframe not found. Please enter name again\")"
   ]
  },
  {
   "cell_type": "markdown",
   "id": "ddb77758",
   "metadata": {},
   "source": [
    "## This is the Static Code"
   ]
  },
  {
   "cell_type": "code",
   "execution_count": null,
   "id": "a64bad7b",
   "metadata": {},
   "outputs": [],
   "source": [
    "desired_colors = colors_dict[group]\n",
    "desired_seasons = seasons_dict[group]\n",
    "\n",
    "print(f\"List of colors: {desired_colors}\")\n",
    "print(f\"List of seasons: {desired_seasons}\")"
   ]
  },
  {
   "cell_type": "markdown",
   "id": "d88ac299",
   "metadata": {},
   "source": [
    "### Filtering the raw plant trait data dataframe"
   ]
  },
  {
   "cell_type": "code",
   "execution_count": null,
   "id": "32165f81",
   "metadata": {},
   "outputs": [],
   "source": [
    "interaction_df_list = [\"Source_Name\", \"Target_Name\", \"Interaction_Type\", \"Type\",\n",
    "                       \"Expansion_Type\", \"Source_Type\"]\n",
    "working_df = working_df[interaction_df_list]\n",
    "working_df = working_df[working_df[\"Interaction_Type\"].fillna('').str.contains('Pollination')]\n",
    "\n",
    "working_df = working_df[interaction_df_list].copy()\n",
    "plant_list = list(set(working_df[\"Target_Name\"].to_list()))\n",
    "df_new = df.copy()\n",
    "df_new[\"Pollinator_Yes\"] = df_new[\"Taxon\"].apply(lambda x: \"Yes\" if x in plant_list else np.nan)\n",
    "df_new = df_new.query(\"Pollinator_Yes == 'Yes'\")\n",
    "print(f\"Length of reduced plant with trait data information: {len(df_new)}\\n\")\n",
    "print(f\"Number of total plant species that are pollinated by this clade: {len(plant_list)}\")"
   ]
  },
  {
   "cell_type": "code",
   "execution_count": null,
   "id": "a1926c94",
   "metadata": {},
   "outputs": [],
   "source": [
    "len(set(working_df[\"Source_Name\"].values))"
   ]
  },
  {
   "cell_type": "markdown",
   "id": "9bad81c4",
   "metadata": {},
   "source": [
    "### Shortening our working df to only contain those interactions of which we have trait data"
   ]
  },
  {
   "cell_type": "code",
   "execution_count": null,
   "id": "583dd7d0",
   "metadata": {},
   "outputs": [],
   "source": [
    "avail_plants = df_new[\"Taxon\"].to_list()\n",
    "\n",
    "removed_entries = working_df[~working_df[\"Target_Name\"].isin(avail_plants)]\n",
    "working_df = working_df[working_df[\"Target_Name\"].isin(avail_plants)]\n",
    "\n",
    "print(f\"Number of entries that are kept: {len(working_df)}, (% = {(len(working_df))/(len(working_df) + len(removed_entries))*100})\\n\")\n",
    "print(f\"Number of removed entries: {len(removed_entries)}, (% = {(len(removed_entries))/(len(working_df) + len(removed_entries))*100})\")"
   ]
  },
  {
   "cell_type": "code",
   "execution_count": null,
   "id": "009004b9",
   "metadata": {},
   "outputs": [],
   "source": [
    "working_df.head()"
   ]
  },
  {
   "cell_type": "code",
   "execution_count": null,
   "id": "2abdf820",
   "metadata": {},
   "outputs": [],
   "source": [
    "len(set(working_df[\"Source_Name\"].values))"
   ]
  },
  {
   "cell_type": "markdown",
   "id": "11f6e27f",
   "metadata": {},
   "source": [
    "## The Actual Trait Based Removal (Barrier Class)"
   ]
  },
  {
   "cell_type": "code",
   "execution_count": 13,
   "id": "282d8e45",
   "metadata": {},
   "outputs": [],
   "source": [
    "flower_df = df_new.copy()\n",
    "\n",
    "filtered_flower_df = pd.DataFrame()\n",
    "\n",
    "for _, row in flower_df.iterrows():\n",
    "    color_list = row['Flower_Color']\n",
    "    season_list = row['Flower_Season']\n",
    "    \n",
    "    for color in color_list:\n",
    "        color_lower = color.lower()\n",
    "        for season in season_list:\n",
    "            if color_lower in desired_colors and season in desired_seasons:\n",
    "                filtered_flower_df = filtered_flower_df.append(row, ignore_index=True)"
   ]
  },
  {
   "cell_type": "code",
   "execution_count": 14,
   "id": "aca7953c",
   "metadata": {},
   "outputs": [],
   "source": [
    "# for _, row in flower_df.iterrows():\n",
    "#     color_list = row['Flower_Color']\n",
    "#     season_list = row['Flower_Season']\n",
    "    \n",
    "#     for color in color_list:\n",
    "#         color_lower = color.lower()\n",
    "#         for season in season_list:\n",
    "#             print(color_lower in desired_colors or season in desired_seasons)"
   ]
  },
  {
   "cell_type": "code",
   "execution_count": null,
   "id": "1d9c58fc",
   "metadata": {},
   "outputs": [],
   "source": [
    "filtered_flower_df"
   ]
  },
  {
   "cell_type": "code",
   "execution_count": null,
   "id": "2b43c12f",
   "metadata": {},
   "outputs": [],
   "source": [
    "final_plants = filtered_flower_df[\"Taxon\"].to_list()\n",
    "\n",
    "incorrect_entries = working_df[~working_df[\"Target_Name\"].isin(final_plants)]\n",
    "correct_entries = working_df[working_df[\"Target_Name\"].isin(final_plants)]\n",
    "\n",
    "# print(f\"Number of correct entries: {len(correct_entries)}, (% = {(len(correct_entries))/(len(correct_entries) + len(incorrect_entries))*100})\\n\")\n",
    "print(f\"Number of incorrect entries: {len(incorrect_entries)}, (% = {(len(incorrect_entries))/(len(working_df) + len(removed_entries))*100})\")"
   ]
  },
  {
   "cell_type": "code",
   "execution_count": null,
   "id": "a27fc17d",
   "metadata": {},
   "outputs": [],
   "source": [
    "incorrect_entries.sort_values(by='Source_Name')"
   ]
  },
  {
   "cell_type": "code",
   "execution_count": null,
   "id": "67ed82d2",
   "metadata": {},
   "outputs": [],
   "source": [
    "set(incorrect_entries[\"Expansion_Type\"].values)"
   ]
  },
  {
   "cell_type": "code",
   "execution_count": null,
   "id": "19ee140b",
   "metadata": {},
   "outputs": [],
   "source": [
    "nan_df = incorrect_entries[incorrect_entries['Expansion_Type'].isna()]\n",
    "nan_df"
   ]
  },
  {
   "cell_type": "code",
   "execution_count": null,
   "id": "b45a3c05",
   "metadata": {},
   "outputs": [],
   "source": [
    "final_df = pd.concat([correct_entries, nan_df])\n",
    "final_df"
   ]
  },
  {
   "cell_type": "code",
   "execution_count": null,
   "id": "87bac954",
   "metadata": {},
   "outputs": [],
   "source": [
    "print(f\"Percentage of false negatives: {len(nan_df)/len(final_df)*100}\")"
   ]
  },
  {
   "cell_type": "code",
   "execution_count": null,
   "id": "90075675",
   "metadata": {},
   "outputs": [],
   "source": [
    "len(set(final_df[\"Source_Name\"].values))"
   ]
  },
  {
   "cell_type": "code",
   "execution_count": null,
   "id": "eb1c7b3a",
   "metadata": {},
   "outputs": [],
   "source": [
    "x = f\"{group}-plant_final\"\n",
    "final_df.to_csv(f\"New_Interaction_Files/{x}.csv\")"
   ]
  },
  {
   "cell_type": "markdown",
   "id": "f5559907",
   "metadata": {},
   "source": [
    "# Final Dataset Creation\n",
    "> Do not run till you have all the required files"
   ]
  },
  {
   "cell_type": "code",
   "execution_count": 41,
   "id": "78710162",
   "metadata": {},
   "outputs": [],
   "source": [
    "# bee = pd.read_csv('New_Interaction_Files/bee-plant_final.csv')\n",
    "# beetle = pd.read_csv('New_Interaction_Files/beetle-plant_final.csv')\n",
    "# butterfly = pd.read_csv('New_Interaction_Files/butterfly-plant_final.csv')\n",
    "# fly = pd.read_csv('New_Interaction_Files/fly-plant_final.csv')\n",
    "# moth = pd.read_csv('New_Interaction_Files/moth-plant_final.csv')\n",
    "# wasp = pd.read_csv('New_Interaction_Files/wasp-plant_final.csv')"
   ]
  },
  {
   "cell_type": "code",
   "execution_count": null,
   "id": "7fc7b857",
   "metadata": {},
   "outputs": [],
   "source": [
    "# final_df = pd.concat([bee, beetle, butterfly, fly, moth, wasp])\n",
    "# final_df = final_df.set_index(\"Unnamed: 0\")\n",
    "# final_df"
   ]
  },
  {
   "cell_type": "code",
   "execution_count": 44,
   "id": "f8425c9d",
   "metadata": {},
   "outputs": [],
   "source": [
    "# final_df.to_csv(\"New_Interaction_Files/Plant_Pollinator_Final.csv\")"
   ]
  }
 ],
 "metadata": {
  "kernelspec": {
   "display_name": "Python 3 (ipykernel)",
   "language": "python",
   "name": "python3"
  },
  "language_info": {
   "codemirror_mode": {
    "name": "ipython",
    "version": 3
   },
   "file_extension": ".py",
   "mimetype": "text/x-python",
   "name": "python",
   "nbconvert_exporter": "python",
   "pygments_lexer": "ipython3",
   "version": "3.9.13"
  }
 },
 "nbformat": 4,
 "nbformat_minor": 5
}
